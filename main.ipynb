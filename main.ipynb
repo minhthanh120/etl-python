{
 "cells": [
  {
   "cell_type": "code",
   "execution_count": 1,
   "metadata": {},
   "outputs": [],
   "source": []
  },
  {
   "cell_type": "code",
   "execution_count": null,
   "metadata": {},
   "outputs": [],
   "source": [
    "from sqlalchemy import and_, or_\n",
    "\n",
    "result = session.query(PprCleanAll).filter(and_(PprCleanAll.date_of_sale >= \"2021-01-01\", PprCleanAll.date_of_sale <= \"2021-01-31\")).all()\n",
    "\n",
    "print(\"First row address:\", result[0].address)"
   ]
  },
  {
   "cell_type": "code",
   "execution_count": null,
   "metadata": {},
   "outputs": [],
   "source": [
    "from sqlalchemy import or_\n",
    "\n",
    "result = session.query(PprCleanAll) \\\n",
    "                .filter(or_(PprCleanAll.county == \"dublin\", PprCleanAll.county == \"cork\")) \\\n",
    "                .all()\n",
    "\n",
    "print(\"First row address:\", result[0].address)a"
   ]
  },
  {
   "cell_type": "code",
   "execution_count": 2,
   "metadata": {},
   "outputs": [],
   "source": [
    "from sqlalchemy import  func\n",
    "func.a"
   ]
  },
  {
   "cell_type": "code",
   "execution_count": 9,
   "metadata": {},
   "outputs": [],
   "source": [
    "from matplotlib import pyplot as plt\n",
    "import pandas as pd"
   ]
  },
  {
   "cell_type": "code",
   "execution_count": 17,
   "metadata": {},
   "outputs": [],
   "source": [
    "data = pd.read_csv(r'.\\\\data\\\\raw\\downloaded_at=2021-02-01\\\\ppr-all.csv', encoding='windows-1252')"
   ]
  },
  {
   "cell_type": "code",
   "execution_count": 18,
   "metadata": {},
   "outputs": [
    {
     "data": {
      "text/html": [
       "<div>\n",
       "<style scoped>\n",
       "    .dataframe tbody tr th:only-of-type {\n",
       "        vertical-align: middle;\n",
       "    }\n",
       "\n",
       "    .dataframe tbody tr th {\n",
       "        vertical-align: top;\n",
       "    }\n",
       "\n",
       "    .dataframe thead th {\n",
       "        text-align: right;\n",
       "    }\n",
       "</style>\n",
       "<table border=\"1\" class=\"dataframe\">\n",
       "  <thead>\n",
       "    <tr style=\"text-align: right;\">\n",
       "      <th></th>\n",
       "      <th>date_of_sale</th>\n",
       "      <th>address</th>\n",
       "      <th>postal_code</th>\n",
       "      <th>county</th>\n",
       "      <th>price</th>\n",
       "      <th>description</th>\n",
       "    </tr>\n",
       "  </thead>\n",
       "  <tbody>\n",
       "    <tr>\n",
       "      <th>0</th>\n",
       "      <td>01/12/2020</td>\n",
       "      <td>106 ST MOBHI RD, GLASNEVIN, DUBLIN 11</td>\n",
       "      <td>Dublin 9</td>\n",
       "      <td>Dublin</td>\n",
       "      <td>€565,000.00</td>\n",
       "      <td>Second-Hand Dwelling house /Apartment</td>\n",
       "    </tr>\n",
       "    <tr>\n",
       "      <th>1</th>\n",
       "      <td>01/12/2020</td>\n",
       "      <td>106 WESTON VIEW, BALLINREA RD, CARRIGALINE</td>\n",
       "      <td>NaN</td>\n",
       "      <td>Cork</td>\n",
       "      <td>€115,500.00</td>\n",
       "      <td>Second-Hand Dwelling house /Apartment</td>\n",
       "    </tr>\n",
       "    <tr>\n",
       "      <th>2</th>\n",
       "      <td>01/12/2020</td>\n",
       "      <td>107 LESLIES ARCH, THE OLD QUARTER, BALLINCOLLIG</td>\n",
       "      <td>NaN</td>\n",
       "      <td>Cork</td>\n",
       "      <td>€326,000.00</td>\n",
       "      <td>Second-Hand Dwelling house /Apartment</td>\n",
       "    </tr>\n",
       "    <tr>\n",
       "      <th>3</th>\n",
       "      <td>01/12/2020</td>\n",
       "      <td>108 ADAMSTOWN AVE, LUCAN, DUBLIN</td>\n",
       "      <td>NaN</td>\n",
       "      <td>Dublin</td>\n",
       "      <td>€281,000.00</td>\n",
       "      <td>Second-Hand Dwelling house /Apartment</td>\n",
       "    </tr>\n",
       "    <tr>\n",
       "      <th>4</th>\n",
       "      <td>01/12/2020</td>\n",
       "      <td>11 Cois na hAbhann, Newtown Road, Wexford</td>\n",
       "      <td>NaN</td>\n",
       "      <td>Wexford</td>\n",
       "      <td>€296,917.00</td>\n",
       "      <td>New Dwelling house /Apartment</td>\n",
       "    </tr>\n",
       "  </tbody>\n",
       "</table>\n",
       "</div>"
      ],
      "text/plain": [
       "  date_of_sale                                          address postal_code  \\\n",
       "0   01/12/2020            106 ST MOBHI RD, GLASNEVIN, DUBLIN 11    Dublin 9   \n",
       "1   01/12/2020       106 WESTON VIEW, BALLINREA RD, CARRIGALINE         NaN   \n",
       "2   01/12/2020  107 LESLIES ARCH, THE OLD QUARTER, BALLINCOLLIG         NaN   \n",
       "3   01/12/2020                 108 ADAMSTOWN AVE, LUCAN, DUBLIN         NaN   \n",
       "4   01/12/2020        11 Cois na hAbhann, Newtown Road, Wexford         NaN   \n",
       "\n",
       "    county        price                            description  \n",
       "0   Dublin  €565,000.00  Second-Hand Dwelling house /Apartment  \n",
       "1     Cork  €115,500.00  Second-Hand Dwelling house /Apartment  \n",
       "2     Cork  €326,000.00  Second-Hand Dwelling house /Apartment  \n",
       "3   Dublin  €281,000.00  Second-Hand Dwelling house /Apartment  \n",
       "4  Wexford  €296,917.00          New Dwelling house /Apartment  "
      ]
     },
     "execution_count": 18,
     "metadata": {},
     "output_type": "execute_result"
    }
   ],
   "source": [
    "data.head()"
   ]
  },
  {
   "cell_type": "code",
   "execution_count": null,
   "metadata": {},
   "outputs": [],
   "source": []
  }
 ],
 "metadata": {
  "kernelspec": {
   "display_name": "Python 3",
   "language": "python",
   "name": "python3"
  },
  "language_info": {
   "codemirror_mode": {
    "name": "ipython",
    "version": 3
   },
   "file_extension": ".py",
   "mimetype": "text/x-python",
   "name": "python",
   "nbconvert_exporter": "python",
   "pygments_lexer": "ipython3",
   "version": "3.11.2"
  },
  "orig_nbformat": 4
 },
 "nbformat": 4,
 "nbformat_minor": 2
}
